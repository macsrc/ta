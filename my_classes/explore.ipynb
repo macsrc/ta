{
 "cells": [
  {
   "cell_type": "code",
   "execution_count": 2,
   "id": "a91f6114",
   "metadata": {},
   "outputs": [],
   "source": [
    "import pandas as pd\n",
    "\n",
    "import ta\n",
    "\n",
    "# Load data\n",
    "df = pd.read_csv(\"../test/data/datas.csv\", sep=\",\")"
   ]
  },
  {
   "cell_type": "code",
   "execution_count": 3,
   "id": "901f1532",
   "metadata": {},
   "outputs": [
    {
     "data": {
      "text/html": [
       "<div>\n",
       "<style scoped>\n",
       "    .dataframe tbody tr th:only-of-type {\n",
       "        vertical-align: middle;\n",
       "    }\n",
       "\n",
       "    .dataframe tbody tr th {\n",
       "        vertical-align: top;\n",
       "    }\n",
       "\n",
       "    .dataframe thead th {\n",
       "        text-align: right;\n",
       "    }\n",
       "</style>\n",
       "<table border=\"1\" class=\"dataframe\">\n",
       "  <thead>\n",
       "    <tr style=\"text-align: right;\">\n",
       "      <th></th>\n",
       "      <th>Timestamp</th>\n",
       "      <th>Open</th>\n",
       "      <th>High</th>\n",
       "      <th>Low</th>\n",
       "      <th>Close</th>\n",
       "      <th>Volume_BTC</th>\n",
       "      <th>Volume_Currency</th>\n",
       "      <th>Weighted_Price</th>\n",
       "    </tr>\n",
       "  </thead>\n",
       "  <tbody>\n",
       "    <tr>\n",
       "      <th>52052</th>\n",
       "      <td>1503388800</td>\n",
       "      <td>3794.55</td>\n",
       "      <td>3807.23</td>\n",
       "      <td>3753.58</td>\n",
       "      <td>3795.25</td>\n",
       "      <td>840.150643</td>\n",
       "      <td>3.179789e+06</td>\n",
       "      <td>3784.784933</td>\n",
       "    </tr>\n",
       "    <tr>\n",
       "      <th>52053</th>\n",
       "      <td>1503392400</td>\n",
       "      <td>3795.25</td>\n",
       "      <td>3927.00</td>\n",
       "      <td>3795.25</td>\n",
       "      <td>3922.85</td>\n",
       "      <td>1509.122162</td>\n",
       "      <td>5.853718e+06</td>\n",
       "      <td>3878.889320</td>\n",
       "    </tr>\n",
       "    <tr>\n",
       "      <th>52054</th>\n",
       "      <td>1503396000</td>\n",
       "      <td>3906.74</td>\n",
       "      <td>3922.89</td>\n",
       "      <td>3864.63</td>\n",
       "      <td>3879.04</td>\n",
       "      <td>493.028379</td>\n",
       "      <td>1.915458e+06</td>\n",
       "      <td>3885.086491</td>\n",
       "    </tr>\n",
       "    <tr>\n",
       "      <th>52055</th>\n",
       "      <td>1503399600</td>\n",
       "      <td>3868.52</td>\n",
       "      <td>3903.37</td>\n",
       "      <td>3868.52</td>\n",
       "      <td>3899.00</td>\n",
       "      <td>381.538996</td>\n",
       "      <td>1.485393e+06</td>\n",
       "      <td>3893.162303</td>\n",
       "    </tr>\n",
       "    <tr>\n",
       "      <th>52056</th>\n",
       "      <td>1503403200</td>\n",
       "      <td>3896.18</td>\n",
       "      <td>3951.83</td>\n",
       "      <td>3885.09</td>\n",
       "      <td>3934.21</td>\n",
       "      <td>350.955561</td>\n",
       "      <td>1.376127e+06</td>\n",
       "      <td>3921.085962</td>\n",
       "    </tr>\n",
       "  </tbody>\n",
       "</table>\n",
       "</div>"
      ],
      "text/plain": [
       "        Timestamp     Open     High      Low    Close   Volume_BTC  \\\n",
       "52052  1503388800  3794.55  3807.23  3753.58  3795.25   840.150643   \n",
       "52053  1503392400  3795.25  3927.00  3795.25  3922.85  1509.122162   \n",
       "52054  1503396000  3906.74  3922.89  3864.63  3879.04   493.028379   \n",
       "52055  1503399600  3868.52  3903.37  3868.52  3899.00   381.538996   \n",
       "52056  1503403200  3896.18  3951.83  3885.09  3934.21   350.955561   \n",
       "\n",
       "       Volume_Currency  Weighted_Price  \n",
       "52052     3.179789e+06     3784.784933  \n",
       "52053     5.853718e+06     3878.889320  \n",
       "52054     1.915458e+06     3885.086491  \n",
       "52055     1.485393e+06     3893.162303  \n",
       "52056     1.376127e+06     3921.085962  "
      ]
     },
     "execution_count": 3,
     "metadata": {},
     "output_type": "execute_result"
    }
   ],
   "source": [
    "df.tail()"
   ]
  },
  {
   "cell_type": "code",
   "execution_count": 6,
   "id": "37ea20b3",
   "metadata": {},
   "outputs": [
    {
     "name": "stdout",
     "output_type": "stream",
     "text": [
      "Index(['Timestamp', 'Open', 'High', 'Low', 'Close', 'Volume_BTC',\n",
      "       'Volume_Currency', 'Weighted_Price'],\n",
      "      dtype='object')\n"
     ]
    }
   ],
   "source": [
    "# Clean nan values\n",
    "df = ta.utils.dropna(df)\n",
    "\n",
    "print(df.columns)"
   ]
  },
  {
   "cell_type": "code",
   "execution_count": 7,
   "id": "1fe69c6f",
   "metadata": {},
   "outputs": [
    {
     "name": "stderr",
     "output_type": "stream",
     "text": [
      "/home/shyam/.local/lib/python3.10/site-packages/ta/trend.py:780: RuntimeWarning: invalid value encountered in double_scalars\n",
      "  dip[idx] = 100 * (self._dip[idx] / value)\n",
      "/home/shyam/.local/lib/python3.10/site-packages/ta/trend.py:785: RuntimeWarning: invalid value encountered in double_scalars\n",
      "  din[idx] = 100 * (self._din[idx] / value)\n"
     ]
    }
   ],
   "source": [
    "# Add all ta features filling nans values\n",
    "df = ta.add_all_ta_features(\n",
    "    df, \"Open\", \"High\", \"Low\", \"Close\", \"Volume_BTC\", fillna=True\n",
    ")"
   ]
  },
  {
   "cell_type": "code",
   "execution_count": 8,
   "id": "dcf6abfb",
   "metadata": {},
   "outputs": [
    {
     "name": "stdout",
     "output_type": "stream",
     "text": [
      "Index(['Timestamp', 'Open', 'High', 'Low', 'Close', 'Volume_BTC',\n",
      "       'Volume_Currency', 'Weighted_Price', 'volume_adi', 'volume_obv',\n",
      "       'volume_cmf', 'volume_fi', 'volume_em', 'volume_sma_em', 'volume_vpt',\n",
      "       'volume_vwap', 'volume_mfi', 'volume_nvi', 'volatility_bbm',\n",
      "       'volatility_bbh', 'volatility_bbl', 'volatility_bbw', 'volatility_bbp',\n",
      "       'volatility_bbhi', 'volatility_bbli', 'volatility_kcc',\n",
      "       'volatility_kch', 'volatility_kcl', 'volatility_kcw', 'volatility_kcp',\n",
      "       'volatility_kchi', 'volatility_kcli', 'volatility_dcl',\n",
      "       'volatility_dch', 'volatility_dcm', 'volatility_dcw', 'volatility_dcp',\n",
      "       'volatility_atr', 'volatility_ui', 'trend_macd', 'trend_macd_signal',\n",
      "       'trend_macd_diff', 'trend_sma_fast', 'trend_sma_slow', 'trend_ema_fast',\n",
      "       'trend_ema_slow', 'trend_vortex_ind_pos', 'trend_vortex_ind_neg',\n",
      "       'trend_vortex_ind_diff', 'trend_trix', 'trend_mass_index', 'trend_dpo',\n",
      "       'trend_kst', 'trend_kst_sig', 'trend_kst_diff', 'trend_ichimoku_conv',\n",
      "       'trend_ichimoku_base', 'trend_ichimoku_a', 'trend_ichimoku_b',\n",
      "       'trend_stc', 'trend_adx', 'trend_adx_pos', 'trend_adx_neg', 'trend_cci',\n",
      "       'trend_visual_ichimoku_a', 'trend_visual_ichimoku_b', 'trend_aroon_up',\n",
      "       'trend_aroon_down', 'trend_aroon_ind', 'trend_psar_up',\n",
      "       'trend_psar_down', 'trend_psar_up_indicator',\n",
      "       'trend_psar_down_indicator', 'momentum_rsi', 'momentum_stoch_rsi',\n",
      "       'momentum_stoch_rsi_k', 'momentum_stoch_rsi_d', 'momentum_tsi',\n",
      "       'momentum_uo', 'momentum_stoch', 'momentum_stoch_signal', 'momentum_wr',\n",
      "       'momentum_ao', 'momentum_roc', 'momentum_ppo', 'momentum_ppo_signal',\n",
      "       'momentum_ppo_hist', 'momentum_pvo', 'momentum_pvo_signal',\n",
      "       'momentum_pvo_hist', 'momentum_kama', 'others_dr', 'others_dlr',\n",
      "       'others_cr'],\n",
      "      dtype='object')\n",
      "94\n"
     ]
    }
   ],
   "source": [
    "print(df.columns)\n",
    "print(len(df.columns))\n"
   ]
  },
  {
   "cell_type": "code",
   "execution_count": null,
   "id": "dcc1be38",
   "metadata": {},
   "outputs": [],
   "source": []
  }
 ],
 "metadata": {
  "kernelspec": {
   "display_name": "Python 3 (ipykernel)",
   "language": "python",
   "name": "python3"
  },
  "language_info": {
   "codemirror_mode": {
    "name": "ipython",
    "version": 3
   },
   "file_extension": ".py",
   "mimetype": "text/x-python",
   "name": "python",
   "nbconvert_exporter": "python",
   "pygments_lexer": "ipython3",
   "version": "3.10.6"
  }
 },
 "nbformat": 4,
 "nbformat_minor": 5
}
